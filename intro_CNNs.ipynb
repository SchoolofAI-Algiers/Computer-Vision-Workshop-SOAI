{
  "nbformat": 4,
  "nbformat_minor": 0,
  "metadata": {
    "colab": {
      "name": "intro_CNNs.ipynb",
      "provenance": [],
      "collapsed_sections": []
    },
    "kernelspec": {
      "name": "python3",
      "display_name": "Python 3"
    }
  },
  "cells": [
    {
      "cell_type": "markdown",
      "metadata": {
        "id": "QS_em_hg6bWX",
        "colab_type": "text"
      },
      "source": [
        "# TABLE OF CONTENT :\n",
        "\n",
        "\n",
        "### 1.   Why CNN's ?\n",
        "### 2.   Convolutional Neural Networks\n",
        "    2.1  Convolution Layer \n",
        "          2.1.1  What are Filters ?\n",
        "          2.1.2  Edge Detection Filters \n",
        "          2.1.3  Why Filters ?   \n",
        "    2.2   Pooling Layer \n",
        "    2.3   Fully connected Layer \n",
        "### 3.   Implementing a CNN model(cifar 10)\n",
        "\n",
        "\n",
        "\n",
        "\n",
        "\n",
        "\n",
        "\n",
        "\n",
        "\n"
      ]
    },
    {
      "cell_type": "markdown",
      "metadata": {
        "id": "kEAb3zCtA_h3",
        "colab_type": "text"
      },
      "source": [
        "# Why CNN's ?\n",
        "Imagine a simple image of hand written digit 28x28 pixels\n",
        "---\n",
        "<img src=\"https://qph.fs.quoracdn.net/main-qimg-17d779fffc5ce42e3c2399a05de2dd70\" width=\"40%\" >\n",
        "\n",
        "\n",
        "\n",
        "\n",
        "Each pixel is an number between 0 and 255,\n",
        "so when we try to classifay the image we need :\n",
        "\n",
        "![Texte alternatif…](https://miro.medium.com/max/960/1*av47vApmzuM0AN21VaIcSA.png)\n",
        "\n",
        "Your nueral network will look like that !!!\n",
        "\n",
        "\n",
        "<img src=\"https://drive.google.com/uc?id=1F4_FHCLOg_LiGon6AbY3wIlj4doeUXqE\" width=\"90%\"  >\n",
        "\n",
        "\n",
        "\n",
        "\n",
        "\n",
        "# What does CNN's do about this ?\n",
        " What CNN does is, it extract the feature of image and convert it into lower dimension without loosing its characteristics by passing it to different type of layers\n",
        "\n",
        "\n",
        "\n",
        "\n",
        "\n",
        " <img src=\"https://drive.google.com/uc?id=13jsebAiWGODXDuW-yxAEUJUwlXXRhkMd\" width=\"70%\" align=\"right\" >\n",
        " \n",
        "---------\n",
        "\n",
        "*   Convolution Layer\n",
        "*   Pooling Layer\n",
        "*   Fully Connected Layer\n",
        "---------\n",
        "\n",
        "\n",
        "\n",
        "\n",
        "\n",
        "\n",
        "\n",
        "\n",
        "\n",
        "\n",
        "\n",
        "\n",
        "\n",
        "\n",
        "\n",
        "\n",
        "\n",
        "\n",
        "\n",
        "\n",
        "\n",
        "\n",
        "\n",
        "\n"
      ]
    },
    {
      "cell_type": "markdown",
      "metadata": {
        "id": "4s6UZYMvmgP-",
        "colab_type": "text"
      },
      "source": [
        "#2.1-   Convolution Layer\n",
        "##2.1.1- Filters :\n",
        "A colored image is represented with a matrix :\n",
        "\n",
        "\n",
        "<img src=\"https://miro.medium.com/max/1073/1*icINeO4H7UKe3NlU1fXqlA.jpeg\" width=\"50%\"  >\n",
        "\n",
        "We can turn to black and white :\n"
      ]
    },
    {
      "cell_type": "code",
      "metadata": {
        "id": "lvNVg6mYybEH",
        "colab_type": "code",
        "colab": {}
      },
      "source": [
        "\n",
        "from matplotlib import pyplot as plt\n",
        "#import matplotlib.image as mpimg\n",
        "from skimage import io\n",
        "#image = io.imread(url)\n",
        "import cv2\n",
        "\n",
        "%matplotlib inline\n",
        "\n",
        "## TODO : Read in the image using io by URL \n"
      ],
      "execution_count": 0,
      "outputs": []
    },
    {
      "cell_type": "code",
      "metadata": {
        "id": "YJnUaaV66vbK",
        "colab_type": "code",
        "colab": {}
      },
      "source": [
        "gray = cv2.cvtColor(image, cv2.COLOR_RGB2GRAY)\n",
        "\n",
        "plt.imshow(gray, cmap='gray')"
      ],
      "execution_count": 0,
      "outputs": []
    },
    {
      "cell_type": "markdown",
      "metadata": {
        "id": "0T6U6cJcyfDG",
        "colab_type": "text"
      },
      "source": [
        "\n",
        "A filter looks like this :    \n",
        "\n",
        "\n",
        "\n",
        "<img src=\"http://www.manifold.net/doc/mfd9/images/convolution_filter01_00.png\" width=\"20%\"  >\n",
        "\n",
        "How to declare it ? simple it is normal matrix :"
      ]
    },
    {
      "cell_type": "code",
      "metadata": {
        "id": "yV44NiLuvaT1",
        "colab_type": "code",
        "colab": {}
      },
      "source": [
        "import numpy as np #importing numpy\n",
        "##TODO :create a filter using np.array and print it   \n",
        "\n",
        "             "
      ],
      "execution_count": 0,
      "outputs": []
    },
    {
      "cell_type": "markdown",
      "metadata": {
        "id": "Q-4jEtdIv3p5",
        "colab_type": "text"
      },
      "source": [
        "## How does a filter works ?\n",
        "\n",
        "<img src=\"https://drive.google.com/uc?id=1zCoc0re0Kw-otdZOOm1Lyq1Hw2jbQtFn\" >"
      ]
    },
    {
      "cell_type": "code",
      "metadata": {
        "id": "fO3QHpq_62lf",
        "colab_type": "code",
        "colab": {}
      },
      "source": [
        "# Filter the image using filter2D, which has inputs: (grayscale image, bit-depth, kernel) \n",
        "\n",
        "# You can show the filtred image here \n"
      ],
      "execution_count": 0,
      "outputs": []
    },
    {
      "cell_type": "code",
      "metadata": {
        "id": "GFW4k2_k8gTE",
        "colab_type": "code",
        "colab": {}
      },
      "source": [
        "## TODO :\n",
        "\n",
        "# Try this two filters togther\n",
        "\n",
        "\n",
        "# Filter the image using filter2D, which has inputs: (grayscale image, bit-depth, kernel)  \n",
        "\n",
        "\n",
        "# Show the filtred image"
      ],
      "execution_count": 0,
      "outputs": []
    },
    {
      "cell_type": "markdown",
      "metadata": {
        "id": "aONDzb_kMC5f",
        "colab_type": "text"
      },
      "source": [
        "## Padding and Stride :\n",
        "**Stride** refers to how many steps we are moving in each steps in convolution\n",
        "<img src=\"https://miro.medium.com/max/790/1*g0OmDI1w9KqN7Rpw6Qo8Xg@2x.gif\" width=\"50%\">\n",
        "\n",
        "\n",
        "### Why do we need padding ?\n",
        "<img src=\"https://miro.medium.com/max/800/1*17TNPi4m0pBqOCGrXzU27w.gif\" width=\"50%\">\n",
        "\n",
        "\n"
      ]
    },
    {
      "cell_type": "markdown",
      "metadata": {
        "id": "QES4J6Xk8ye3",
        "colab_type": "text"
      },
      "source": [
        "## Edge detection :\n",
        "Every image has vertical and horizontal edges which actually combining to form a image. Convolution operation is used with some filters for detecting edges.\n",
        "\n",
        "We will try to do that "
      ]
    },
    {
      "cell_type": "code",
      "metadata": {
        "id": "gFqMiLvp92-4",
        "colab_type": "code",
        "colab": {}
      },
      "source": [
        "# TODO : Reload an image and turn it to B&W and print it \n",
        "\n",
        "\n"
      ],
      "execution_count": 0,
      "outputs": []
    },
    {
      "cell_type": "code",
      "metadata": {
        "id": "BSLmp0Cg-W-_",
        "colab_type": "code",
        "colab": {}
      },
      "source": [
        "##Feel free to modify the numbers here, to try out another filter!\n",
        "filter = np.array([[-1, -1, 1, 1], [-1, -1, 1, 1], [-1, -1, 1, 1], [-1, -1, 1, 1]])\n",
        "\n",
        "print('Filter shape: ', filter.shape)\n"
      ],
      "execution_count": 0,
      "outputs": []
    },
    {
      "cell_type": "code",
      "metadata": {
        "id": "IVfUR5rv-eR3",
        "colab_type": "code",
        "colab": {}
      },
      "source": [
        "# Defining four different filters, \n",
        "# all of which are linear combinations of the `filter` defined above\n",
        "\n",
        "# define four filters\n",
        "filter_1 = filter\n",
        "filter_2 = filter_1.T\n",
        "filter_3 = -filter_1\n",
        "filter_4 = -filter_3\n",
        "filters = np.array([filter_1, filter_2, filter_3, filter_4])\n",
        "\n",
        "# For an example, print out the values of filter 1\n",
        "print('Filter 1: \\n', filter_1,'Filter 2: \\n', filter_2,'Filter 3: \\n', filter_3,'Filter 4: \\n', filter_4)"
      ],
      "execution_count": 0,
      "outputs": []
    },
    {
      "cell_type": "code",
      "metadata": {
        "id": "UCn4suqv-vIR",
        "colab_type": "code",
        "colab": {}
      },
      "source": [
        "# visualize all four filters \n",
        "# gives a great way to see what does the filters do\n",
        "fig = plt.figure(figsize=(10, 5))\n",
        "for i in range(4):\n",
        "    ax = fig.add_subplot(1, 4, i+1, xticks=[], yticks=[])\n",
        "    ax.imshow(filters[i], cmap='gray')\n",
        "    ax.set_title('Filter %s' % str(i+1))\n",
        "    width, height = filters[i].shape\n",
        "    for x in range(width):\n",
        "        for y in range(height):\n",
        "            ax.annotate(str(filters[i][x][y]), xy=(y,x),\n",
        "                        horizontalalignment='center',\n",
        "                        verticalalignment='center',\n",
        "                        color='white' if filters[i][x][y]<0 else 'black')"
      ],
      "execution_count": 0,
      "outputs": []
    },
    {
      "cell_type": "markdown",
      "metadata": {
        "id": "se5DG8EOAn-3",
        "colab_type": "text"
      },
      "source": [
        "## Defining a convolutional layer"
      ]
    },
    {
      "cell_type": "markdown",
      "metadata": {
        "id": "_fZtPUUSAn72",
        "colab_type": "text"
      },
      "source": [
        ""
      ]
    },
    {
      "cell_type": "code",
      "metadata": {
        "id": "HRlqPpTD_8VK",
        "colab_type": "code",
        "colab": {}
      },
      "source": [
        "##TODO create Convolutional layers::  ## \n",
        "\n",
        "  \n",
        "\n",
        "import torch\n",
        "import torch.nn as nn\n",
        "import torch.nn.functional as F\n",
        "    \n",
        "  # define a neural network with a single convolutional layer with four filters\n",
        "  # Use torch.nn.Conv2d(in_channels, out_channels, kernel_size, stride=1, padding=0, dilation=1, groups=1, bias=Tr) to create conv layer\n",
        "class Net(nn.Module):\n",
        "    \n",
        "    def __init__(self, weight):\n",
        "       \n",
        "\n",
        "    def forward(self, x):\n",
        "        \n",
        "        return \n",
        "    \n",
        "# TODO : instantiate the model and set the weights\n",
        "\n",
        "\n",
        "# print out the layer in the network\n",
        "print(model)"
      ],
      "execution_count": 0,
      "outputs": []
    },
    {
      "cell_type": "markdown",
      "metadata": {
        "id": "9ZGWnv1GA-XW",
        "colab_type": "text"
      },
      "source": [
        "### We want now to visualise the image after it passed into a certain number of layers by defining this function"
      ]
    },
    {
      "cell_type": "code",
      "metadata": {
        "id": "4YFmw4VEBMRA",
        "colab_type": "code",
        "colab": {}
      },
      "source": [
        "# helper function for visualizing the output of a given layer\n",
        "# default number of filters is 4\n",
        "def viz_layer(layer, n_filters= 4):\n",
        "    fig = plt.figure(figsize=(20, 20))\n",
        "    \n",
        "    for i in range(n_filters):\n",
        "        ax = fig.add_subplot(1, n_filters, i+1, xticks=[], yticks=[])\n",
        "        # grab layer outputs\n",
        "        ax.imshow(np.squeeze(layer[0,i].data.numpy()), cmap='gray')\n",
        "        ax.set_title('Output %s' % str(i+1))"
      ],
      "execution_count": 0,
      "outputs": []
    },
    {
      "cell_type": "markdown",
      "metadata": {
        "id": "fA59Ze_GBaDf",
        "colab_type": "text"
      },
      "source": [
        "### Now we visulaise the images after passing by eact filter"
      ]
    },
    {
      "cell_type": "code",
      "metadata": {
        "id": "dYMk6TTsBYdz",
        "colab_type": "code",
        "colab": {}
      },
      "source": [
        "# plot original image\n",
        "plt.imshow(gray, cmap='gray')\n",
        "\n",
        "# visualize all filters\n",
        "fig = plt.figure(figsize=(12, 6))\n",
        "fig.subplots_adjust(left=0, right=1.5, bottom=0.8, top=1, hspace=0.05, wspace=0.05)\n",
        "for i in range(4):\n",
        "    ax = fig.add_subplot(1, 4, i+1, xticks=[], yticks=[])\n",
        "    ax.imshow(filters[i], cmap='gray')\n",
        "    ax.set_title('Filter %s' % str(i+1))\n",
        "\n",
        "    \n",
        "# convert the image into an input Tensor\n",
        "gray_img_tensor = torch.from_numpy(gray).unsqueeze(0).unsqueeze(1)\n",
        "\n",
        "# get the convolutional layer (pre and post activation)\n",
        "conv_layer, activated_layer = model(gray_img_tensor.float())\n",
        "\n",
        "# visualize the output of a conv layer\n",
        "viz_layer(conv_layer)"
      ],
      "execution_count": 0,
      "outputs": []
    },
    {
      "cell_type": "markdown",
      "metadata": {
        "id": "313sI05PCRbB",
        "colab_type": "text"
      },
      "source": [
        "## ** Activation Function\n",
        "Activation functions are mathematical equations that determine the output of a neural network.\n",
        "This function helps determines whether the neurons should be activated or not, based on whether each neuron’s input is relevant for the model’s prediction. \n",
        "Activation functions can be used to normlize the outputs.\n",
        "### Types of activation functions :\n",
        "\n",
        "\n",
        "*   Linear Activation Function\n",
        "*   **Non-Linear Activation Functions**\n",
        "\n",
        "### Why Non-Linear Activation Functions is used ?\n",
        "    - Non-Linear Activation Functions have a derivative,so they allow backpropagation\n",
        "    - They allow creating a deep neural network. \n",
        "### ReLU (Rectified Linear Unit):\n",
        "<img src=\"https://drive.google.com/uc?id=192rGF8tZrCeBIK4bXZgUhWdN0zUy9gTW\">\n",
        "\n",
        "\n",
        "\n"
      ]
    },
    {
      "cell_type": "code",
      "metadata": {
        "id": "l10OV-RgCfgH",
        "colab_type": "code",
        "outputId": "62c786d2-8458-47ee-eba0-591a267fa412",
        "colab": {
          "base_uri": "https://localhost:8080/",
          "height": 212
        }
      },
      "source": [
        "# after a ReLu is applied\n",
        "\n",
        "viz_layer(activated_layer)"
      ],
      "execution_count": 0,
      "outputs": [
        {
          "output_type": "display_data",
          "data": {
            "image/png": "[encoded data removed]",
            "text/plain": [
              "<Figure size 1440x1440 with 4 Axes>"
            ]
          },
          "metadata": {
            "tags": []
          }
        }
      ]
    },
    {
      "cell_type": "markdown",
      "metadata": {
        "id": "c7L3PcO6LqzR",
        "colab_type": "text"
      },
      "source": [
        "# Why Filters ?\n",
        "\n",
        "Convolutional neural networks apply a filter to an input to create a feature map that summarizes the presence of detected features in the input\n",
        "\n",
        "Convolutional neural networks do not learn a single filter; they, in fact, learn multiple features in parallel for a given input.\n",
        "\n",
        "\n",
        "Building a conventional layer:\n",
        "\n",
        "<img src=\"https://viewg9jx2ub1l4.udacity-student-workspaces.com/files/notebook_ims/conv_layer.gif\" width=\"50%\">"
      ]
    },
    {
      "cell_type": "markdown",
      "metadata": {
        "id": "ZLOro5bUPN6U",
        "colab_type": "text"
      },
      "source": [
        "# 2.2- Pooling Layer\n",
        "Now we have as a result a stack of filtred image and more our images are complex the more filters we have,higher dimonsalinty meens more computing ressourses to use and also can lead to **overfiting**.\n",
        "To reduce this dimentalinty we use pooling layer,one of the most used pooling layers is :\n",
        "### **Max-pool :**\n",
        "<img src=\"https://austingwalters.com/wp-content/uploads/2019/01/max-pooling.png\" width=\"50%\">\n"
      ]
    },
    {
      "cell_type": "code",
      "metadata": {
        "id": "B_QGFw9iOq2y",
        "colab_type": "code",
        "colab": {}
      },
      "source": [
        "#in the forward part\n",
        "self.pool = nn.MaxPool2d(2, 2)"
      ],
      "execution_count": 0,
      "outputs": []
    },
    {
      "cell_type": "markdown",
      "metadata": {
        "id": "a40qaH1oO1MI",
        "colab_type": "text"
      },
      "source": [
        "### Adding max pool layer in our model :"
      ]
    },
    {
      "cell_type": "code",
      "metadata": {
        "id": "lHdol1dDJhs9",
        "colab_type": "code",
        "colab": {}
      },
      "source": [
        "class Net(nn.Module):\n",
        "    \n",
        "    def __init__(self, weight):\n",
        "        super(Net, self).__init__()\n",
        "        # initializes the weights of the convolutional layer to be the weights of the 4 defined filters\n",
        "        k_height, k_width = weight.shape[2:]\n",
        "        # defines the convolutional layer, assumes there are 4 grayscale filters\n",
        "        # torch.nn.Conv2d(in_channels, out_channels, kernel_size, stride=1, padding=0, dilation=1, groups=1, bias=True)\n",
        "        self.conv = nn.Conv2d(1, 4, kernel_size=(k_height, k_width), bias=False)\n",
        "        # max pooling layer\n",
        "        self.pool = nn.MaxPool2d(2, 2)\n",
        "        self.conv.weight = torch.nn.Parameter(weight)\n",
        "\n",
        "    def forward(self, x):\n",
        "        # calculates the output of a convolutional layer\n",
        "        # pre- and post-activation\n",
        "        convv=self.conv(x)\n",
        "        #Showing the size of the image after applying the conv layer \n",
        "        print(\"image shape after conv layer\",convv.shape)\n",
        "\n",
        "        ####TODO : Add maxpooling layer####\n",
        "\n",
        "        #Showing the size of the image after applying the pool layer \n",
        "        print(\"image shape after max pool layer\",conv_x.shape)\n",
        "        activated_x = F.relu(conv_x)\n",
        "        \n",
        "        # returns both layers\n",
        "        return conv_x, activated_x\n",
        "# instantiate the model and set the weights\n",
        "weight = torch.from_numpy(filters).unsqueeze(1).type(torch.FloatTensor)\n",
        "model = Net(weight)\n",
        "\n",
        "# print out the layer in the network\n",
        "print(model)\n"
      ],
      "execution_count": 0,
      "outputs": []
    },
    {
      "cell_type": "markdown",
      "metadata": {
        "id": "LM_HM-_jRd8a",
        "colab_type": "text"
      },
      "source": [
        "### As a result :"
      ]
    },
    {
      "cell_type": "code",
      "metadata": {
        "id": "YS3u8c_iRbqc",
        "colab_type": "code",
        "colab": {}
      },
      "source": [
        "\n",
        "# plot original image\n",
        "plt.imshow(gray, cmap='gray')\n",
        "\n",
        "\n",
        "    \n",
        "# convert the image into an input Tensor\n",
        "gray_img_tensor = torch.from_numpy(gray).unsqueeze(0).unsqueeze(1)\n",
        "\n",
        "# get the convolutional layer (pre and post activation)\n",
        "conv_layer, activated_layer = model(gray_img_tensor.float())\n",
        "\n",
        "# visualize the output of a conv layer\n",
        "viz_layer(activated_layer)"
      ],
      "execution_count": 0,
      "outputs": []
    },
    {
      "cell_type": "markdown",
      "metadata": {
        "id": "OYYmmtepIoOd",
        "colab_type": "text"
      },
      "source": [
        "### At the end we will get a similar architecture :\n",
        "<img src=\"https://adeshpande3.github.io/assets/Cover.png\">"
      ]
    },
    {
      "cell_type": "markdown",
      "metadata": {
        "id": "P7BN2L2DupDH",
        "colab_type": "text"
      },
      "source": [
        "#3- Building a quick smile detector using OpenCV\n",
        "OpenCV (Open Source Computer Vision) is a library of programming functions mainly aimed at real-time computer vision. In simple language it is library used for Image Processing. It is mainly used to do all the operation related to Images.\n",
        "\n",
        "we are going to be using opencvs pre built \"models\" to build a smile detector. \n",
        "here's the code we are going to be using"
      ]
    },
    {
      "cell_type": "code",
      "metadata": {
        "id": "tY1WKLiYvh4t",
        "colab_type": "code",
        "colab": {}
      },
      "source": [
        "import cv2\n",
        "\n",
        "face_cascade = cv2.CascadeClassifier('./haarcascade_frontalface_default.xml')\n",
        "eye_cascade = cv2.CascadeClassifier('./haarcascade_eye.xml')\n",
        "smile_cascade = cv2.CascadeClassifier('./haarcascade_smile.xml')\n",
        "\n",
        "\n",
        "def detect(gray, frame):\n",
        "    faces = face_cascade.detectMultiScale(gray, 1.3, 5)\n",
        "    for (x, y, w, h) in faces:\n",
        "        cv2.rectangle(frame, (x, y), ((x + w), (y + h)), (255, 0, 0), 2)\n",
        "        roi_gray = gray[y:y + h, x:x + w]\n",
        "        roi_color = frame[y:y + h, x:x + w]\n",
        "        smiles = smile_cascade.detectMultiScale(roi_gray, 1.8, 20)\n",
        "\n",
        "        for (sx, sy, sw, sh) in smiles:\n",
        "            cv2.rectangle(roi_color, (sx, sy), ((sx + sw), (sy + sh)), (0, 0, 255), 2)\n",
        "    return frame\n",
        "\n",
        "\n",
        "video_capture = cv2.VideoCapture(0)\n",
        "while True:\n",
        "    # Captures video_capture frame by frame\n",
        "    _, frame = video_capture.read()\n",
        "\n",
        "    # To capture image in monochrome\n",
        "    gray = cv2.cvtColor(frame, cv2.COLOR_BGR2GRAY)\n",
        "    # calls the detect() function\n",
        "    canvas = detect(gray, frame)\n",
        "    # Displays the result on camera feed\n",
        "    cv2.imshow('Video', canvas)\n",
        "\n",
        "    # The control breaks once q key is pressed\n",
        "    if cv2.waitKey(1) & 0xff == ord('q'):\n",
        "        break\n",
        "\n",
        "# Release the capture once all the processing is done.\n",
        "video_capture.release()\n",
        "cv2.destroyAllWindows()"
      ],
      "execution_count": 0,
      "outputs": []
    },
    {
      "cell_type": "markdown",
      "metadata": {
        "id": "54rPb-LMxYvg",
        "colab_type": "text"
      },
      "source": [
        "[Here's a video that explains what's happening behind the scenes](https://youtu.be/hPCTwxF0qf4)"
      ]
    },
    {
      "cell_type": "markdown",
      "metadata": {
        "id": "wjRs0LMsJoij",
        "colab_type": "text"
      },
      "source": [
        "## TO-DO:\n",
        "load another haarcascade from this github [repo](https://github.com/opencv/opencv/tree/master/data/haarcascades) and try to do something with it."
      ]
    },
    {
      "cell_type": "markdown",
      "metadata": {
        "id": "tpfBDtOYR49r",
        "colab_type": "text"
      },
      "source": [
        "# 3- Implementing a CNN model\n",
        "\n",
        "/*cifar10 notebook with some changes test*/"
      ]
    }
  ]
}